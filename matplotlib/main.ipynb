{
 "cells": [
  {
   "cell_type": "code",
   "execution_count": 16,
   "metadata": {},
   "outputs": [],
   "source": [
    "import matplotlib.pyplot as plt\n",
    "import numpy as np\n",
    "import pandas as pd"
   ]
  },
  {
   "cell_type": "code",
   "execution_count": 1,
   "metadata": {},
   "outputs": [
    {
     "ename": "NameError",
     "evalue": "name 'plt' is not defined",
     "output_type": "error",
     "traceback": [
      "\u001b[1;31m---------------------------------------------------------------------------\u001b[0m",
      "\u001b[1;31mNameError\u001b[0m                                 Traceback (most recent call last)",
      "\u001b[1;32mc:\\Users\\Hp Folio\\Documents\\Coding stuff\\ML\\transformers\\matplotlib\\main.ipynb Cell 2\u001b[0m in \u001b[0;36m3\n\u001b[0;32m      <a href='vscode-notebook-cell:/c%3A/Users/Hp%20Folio/Documents/Coding%20stuff/ML/transformers/matplotlib/main.ipynb#W1sZmlsZQ%3D%3D?line=0'>1</a>\u001b[0m x \u001b[39m=\u001b[39m [\u001b[39m1\u001b[39m, \u001b[39m2\u001b[39m, \u001b[39m3\u001b[39m, \u001b[39m4\u001b[39m]\n\u001b[0;32m      <a href='vscode-notebook-cell:/c%3A/Users/Hp%20Folio/Documents/Coding%20stuff/ML/transformers/matplotlib/main.ipynb#W1sZmlsZQ%3D%3D?line=1'>2</a>\u001b[0m y \u001b[39m=\u001b[39m [\u001b[39m2\u001b[39m, \u001b[39m4\u001b[39m, \u001b[39m6\u001b[39m, \u001b[39m8\u001b[39m]\n\u001b[1;32m----> <a href='vscode-notebook-cell:/c%3A/Users/Hp%20Folio/Documents/Coding%20stuff/ML/transformers/matplotlib/main.ipynb#W1sZmlsZQ%3D%3D?line=2'>3</a>\u001b[0m plt\u001b[39m.\u001b[39mtitle(\u001b[39m'\u001b[39m\u001b[39mFirst graph using matplotlib\u001b[39m\u001b[39m'\u001b[39m, fontdict\u001b[39m=\u001b[39m{\u001b[39m'\u001b[39m\u001b[39mfontname\u001b[39m\u001b[39m'\u001b[39m : \u001b[39m'\u001b[39m\u001b[39mComic Sans MS\u001b[39m\u001b[39m'\u001b[39m})\n\u001b[0;32m      <a href='vscode-notebook-cell:/c%3A/Users/Hp%20Folio/Documents/Coding%20stuff/ML/transformers/matplotlib/main.ipynb#W1sZmlsZQ%3D%3D?line=3'>4</a>\u001b[0m x2 \u001b[39m=\u001b[39m np\u001b[39m.\u001b[39marange(\u001b[39m0\u001b[39m,\u001b[39m4\u001b[39m,\u001b[39m0.5\u001b[39m)\n\u001b[0;32m      <a href='vscode-notebook-cell:/c%3A/Users/Hp%20Folio/Documents/Coding%20stuff/ML/transformers/matplotlib/main.ipynb#W1sZmlsZQ%3D%3D?line=4'>5</a>\u001b[0m \u001b[39mprint\u001b[39m(x2)\n",
      "\u001b[1;31mNameError\u001b[0m: name 'plt' is not defined"
     ]
    }
   ],
   "source": [
    "x = [1, 2, 3, 4]\n",
    "y = [2, 4, 6, 8]\n",
    "plt.title('First graph using matplotlib', fontdict={'fontname' : 'Comic Sans MS'})\n",
    "x2 = np.arange(0,4,0.5)\n",
    "print(x2)\n",
    "plt.plot(x2, x2**2, 'r.--', label='x**2')\n",
    "\n",
    "plt.figure()\n",
    "\n",
    "plt.xlabel(\"x axis\")\n",
    "plt.ylabel(\"y axis\")\n",
    "# plt.show()\n",
    "plt.yticks([0,2,4,6,8,10])\n",
    "plt.xticks([0,1,2,3,4,5])\n",
    "\n",
    "plt.plot(x, y, label='2x', color='#023433', linewidth=1.5, marker='.', markersize=8,markeredgecolor='blue')\n",
    "\n",
    "# place a legend on the axis\n",
    "\n",
    "plt.legend()\n",
    "\n",
    "plt.show()"
   ]
  },
  {
   "cell_type": "code",
   "execution_count": null,
   "metadata": {},
   "outputs": [],
   "source": []
  }
 ],
 "metadata": {
  "kernelspec": {
   "display_name": "Python 3",
   "language": "python",
   "name": "python3"
  },
  "language_info": {
   "codemirror_mode": {
    "name": "ipython",
    "version": 3
   },
   "file_extension": ".py",
   "mimetype": "text/x-python",
   "name": "python",
   "nbconvert_exporter": "python",
   "pygments_lexer": "ipython3",
   "version": "3.10.11"
  },
  "orig_nbformat": 4
 },
 "nbformat": 4,
 "nbformat_minor": 2
}
